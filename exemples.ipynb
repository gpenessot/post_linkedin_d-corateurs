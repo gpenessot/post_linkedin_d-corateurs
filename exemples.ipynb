{
 "cells": [
  {
   "cell_type": "markdown",
   "id": "6dfeb839-7cb8-4a20-8c95-aa173d55193c",
   "metadata": {},
   "source": [
    "# 5 exemples pratiques de décorateurs Python\n",
    "\n",
    "## 1. Le décorateur timer\n",
    "Mesurez simplement le temps d'exécution de vos fonctions."
   ]
  },
  {
   "cell_type": "code",
   "execution_count": 1,
   "id": "624df7d8-e993-4096-b40f-0a7c02dcde9b",
   "metadata": {},
   "outputs": [
    {
     "name": "stdout",
     "output_type": "stream",
     "text": [
      "operation_longue a pris 2.0020 secondes\n"
     ]
    }
   ],
   "source": [
    "import time\n",
    "from functools import wraps\n",
    "\n",
    "def timer(func):\n",
    "    @wraps(func)\n",
    "    def wrapper(*args, **kwargs):\n",
    "        debut = time.perf_counter()\n",
    "        resultat = func(*args, **kwargs)\n",
    "        fin = time.perf_counter()\n",
    "        duree = fin - debut\n",
    "        print(f\"{func.__name__} a pris {duree:.4f} secondes\")\n",
    "        return resultat\n",
    "    return wrapper\n",
    "\n",
    "# Exemple d'utilisation\n",
    "@timer\n",
    "def operation_longue(n):\n",
    "    time.sleep(n)  # Simule un traitement long\n",
    "    return \"terminé\"\n",
    "\n",
    "# Test\n",
    "resultat = operation_longue(2)"
   ]
  },
  {
   "cell_type": "markdown",
   "id": "a59d7599-8f8e-422c-a5fb-af4b5c2f313c",
   "metadata": {},
   "source": [
    "## 2. Le décorateur auth\n",
    "Gérez l'authentification de manière élégante."
   ]
  },
  {
   "cell_type": "code",
   "execution_count": 2,
   "id": "17e25adc-11ff-471d-ac2d-5483bf6637d8",
   "metadata": {},
   "outputs": [
    {
     "name": "stdout",
     "output_type": "stream",
     "text": [
      "Test 1: Admin (devrait réussir)\n",
      "✅ Succès: Utilisateur 123 supprimé par Alice\n",
      "\n",
      "Test 2: Utilisateur simple (devrait échouer)\n",
      "✅ Erreur attendue: Rôle admin requis\n",
      "\n",
      "Test 3: Utilisateur sans rôle (devrait échouer)\n",
      "✅ Erreur attendue: Utilisateur non authentifié\n"
     ]
    }
   ],
   "source": [
    "from functools import wraps\n",
    "from typing import Dict, Any, Callable\n",
    "\n",
    "def auth(role_requis: str):\n",
    "    def decorateur(func: Callable):\n",
    "        @wraps(func)\n",
    "        def wrapper(utilisateur: Dict[str, Any], *args, **kwargs):\n",
    "            if not utilisateur.get('role'):\n",
    "                raise ValueError(\"Utilisateur non authentifié\")\n",
    "            \n",
    "            if utilisateur['role'] != role_requis:\n",
    "                raise ValueError(f\"Rôle {role_requis} requis\")\n",
    "                \n",
    "            return func(utilisateur, *args, **kwargs)\n",
    "        return wrapper\n",
    "    return decorateur\n",
    "\n",
    "# Exemple d'utilisation\n",
    "@auth(role_requis='admin')\n",
    "def supprimer_utilisateur(utilisateur: Dict, user_id: int):\n",
    "    return f\"Utilisateur {user_id} supprimé par {utilisateur['nom']}\"\n",
    "\n",
    "# Tests\n",
    "def tester_auth():\n",
    "    # Préparation des utilisateurs de test\n",
    "    admin = {'nom': 'Alice', 'role': 'admin'}\n",
    "    user = {'nom': 'Bob', 'role': 'user'}\n",
    "    anonyme = {'nom': 'Anonymous'}  # Sans rôle\n",
    "\n",
    "    print(\"Test 1: Admin (devrait réussir)\")\n",
    "    try:\n",
    "        resultat = supprimer_utilisateur(admin, 123)\n",
    "        print(f\"✅ Succès: {resultat}\")\n",
    "    except ValueError as e:\n",
    "        print(f\"❌ Erreur inattendue: {e}\")\n",
    "\n",
    "    print(\"\\nTest 2: Utilisateur simple (devrait échouer)\")\n",
    "    try:\n",
    "        supprimer_utilisateur(user, 123)\n",
    "        print(\"❌ Erreur: L'utilisateur simple ne devrait pas avoir accès\")\n",
    "    except ValueError as e:\n",
    "        print(f\"✅ Erreur attendue: {e}\")\n",
    "\n",
    "    print(\"\\nTest 3: Utilisateur sans rôle (devrait échouer)\")\n",
    "    try:\n",
    "        supprimer_utilisateur(anonyme, 123)\n",
    "        print(\"❌ Erreur: L'utilisateur anonyme ne devrait pas avoir accès\")\n",
    "    except ValueError as e:\n",
    "        print(f\"✅ Erreur attendue: {e}\")\n",
    "\n",
    "# Exécution des tests\n",
    "tester_auth()"
   ]
  },
  {
   "cell_type": "markdown",
   "id": "ad258792-2757-4437-b8f1-2285007836ed",
   "metadata": {},
   "source": [
    "## 3. Le décorateur cache\n",
    "Mémorisez les résultats des fonctions coûteuses."
   ]
  },
  {
   "cell_type": "code",
   "execution_count": 3,
   "id": "747b5346-71cc-423b-8aac-44e0acbb7d6c",
   "metadata": {},
   "outputs": [
    {
     "name": "stdout",
     "output_type": "stream",
     "text": [
      "Calcul de fibonacci(10,)\n",
      "Calcul de fibonacci(9,)\n",
      "Calcul de fibonacci(8,)\n",
      "Calcul de fibonacci(7,)\n",
      "Calcul de fibonacci(6,)\n",
      "Calcul de fibonacci(5,)\n",
      "Calcul de fibonacci(4,)\n",
      "Calcul de fibonacci(3,)\n",
      "Calcul de fibonacci(2,)\n",
      "Calcul de fibonacci(1,)\n",
      "Calcul de fibonacci(0,)\n",
      "Utilisation du cache pour fibonacci(1,)\n",
      "Utilisation du cache pour fibonacci(2,)\n",
      "Utilisation du cache pour fibonacci(3,)\n",
      "Utilisation du cache pour fibonacci(4,)\n",
      "Utilisation du cache pour fibonacci(5,)\n",
      "Utilisation du cache pour fibonacci(6,)\n",
      "Utilisation du cache pour fibonacci(7,)\n",
      "Utilisation du cache pour fibonacci(8,)\n",
      "55\n",
      "Utilisation du cache pour fibonacci(10,)\n",
      "55\n"
     ]
    }
   ],
   "source": [
    "from functools import wraps\n",
    "from typing import Dict, Any, Callable\n",
    "\n",
    "def cache(func: Callable):\n",
    "    resultats: Dict[Any, Any] = {}\n",
    "    \n",
    "    @wraps(func)\n",
    "    def wrapper(*args, **kwargs):\n",
    "        # Crée une clé unique pour les arguments\n",
    "        key = str(args) + str(kwargs)\n",
    "        \n",
    "        if key not in resultats:\n",
    "            print(f\"Calcul de {func.__name__}{args}\")\n",
    "            resultats[key] = func(*args, **kwargs)\n",
    "        else:\n",
    "            print(f\"Utilisation du cache pour {func.__name__}{args}\")\n",
    "            \n",
    "        return resultats[key]\n",
    "    return wrapper\n",
    "\n",
    "# Exemple d'utilisation\n",
    "@cache\n",
    "def fibonacci(n: int) -> int:\n",
    "    if n < 2:\n",
    "        return n\n",
    "    return fibonacci(n-1) + fibonacci(n-2)\n",
    "\n",
    "# Test\n",
    "\n",
    "print(fibonacci(10))  # Premier appel\n",
    "print(fibonacci(10))  # Utilise le cache"
   ]
  },
  {
   "cell_type": "markdown",
   "id": "48e3eb95-35ea-46eb-a14d-5ea3fec81b6f",
   "metadata": {},
   "source": [
    "## 4. Le décorateur logger\n",
    "Tracez facilement l'exécution de vos fonctions."
   ]
  },
  {
   "cell_type": "code",
   "execution_count": 4,
   "id": "b9b54128-3853-40a3-a676-7621588ee28a",
   "metadata": {},
   "outputs": [
    {
     "name": "stderr",
     "output_type": "stream",
     "text": [
      "INFO:root:[2024-11-12 00:24:38] Appel de diviser\n",
      "INFO:root:Arguments: (10, 2), {}\n",
      "INFO:root:Résultat: 5.0\n",
      "INFO:root:[2024-11-12 00:24:38] Appel de diviser\n",
      "INFO:root:Arguments: (10, 0), {}\n",
      "ERROR:root:Erreur dans diviser: division by zero\n"
     ]
    }
   ],
   "source": [
    "import logging\n",
    "from functools import wraps\n",
    "from typing import Callable\n",
    "from datetime import datetime\n",
    "\n",
    "logging.basicConfig(level=logging.INFO)\n",
    "\n",
    "def logger(func: Callable):\n",
    "    @wraps(func)\n",
    "    def wrapper(*args, **kwargs):\n",
    "        nom_fonction = func.__name__\n",
    "        horodatage = datetime.now().strftime(\"%Y-%m-%d %H:%M:%S\")\n",
    "        \n",
    "        logging.info(f\"[{horodatage}] Appel de {nom_fonction}\")\n",
    "        logging.info(f\"Arguments: {args}, {kwargs}\")\n",
    "        \n",
    "        try:\n",
    "            resultat = func(*args, **kwargs)\n",
    "            logging.info(f\"Résultat: {resultat}\")\n",
    "            return resultat\n",
    "        except Exception as e:\n",
    "            logging.error(f\"Erreur dans {nom_fonction}: {str(e)}\")\n",
    "            raise\n",
    "        \n",
    "    return wrapper\n",
    "\n",
    "# Exemple d'utilisation\n",
    "@logger\n",
    "def diviser(a: float, b: float) -> float:\n",
    "    return a / b\n",
    "\n",
    "# Tests\n",
    "diviser(10, 2)\n",
    "try:\n",
    "    diviser(10, 0)\n",
    "except ZeroDivisionError:\n",
    "    pass"
   ]
  },
  {
   "cell_type": "markdown",
   "id": "47fcbd53-21b9-428a-a48d-8114e21c3ac2",
   "metadata": {},
   "source": [
    "## 5. Le décorateur retry\n",
    "Gérez automatiquement les tentatives en cas d'échec."
   ]
  },
  {
   "cell_type": "code",
   "execution_count": 5,
   "id": "266ed23b-12ea-4701-a1aa-e9e03eb59e1a",
   "metadata": {},
   "outputs": [
    {
     "name": "stdout",
     "output_type": "stream",
     "text": [
      "Tentative 1 échouée: Erreur de connexion\n",
      "Tentative 2 échouée: Erreur de connexion\n",
      "Résultat final: Succès !\n"
     ]
    }
   ],
   "source": [
    "import time\n",
    "from functools import wraps\n",
    "from typing import Callable, Optional, Type, Union, Tuple\n",
    "import random\n",
    "\n",
    "def retry(\n",
    "    tentatives: int = 3,\n",
    "    delai: float = 1,\n",
    "    exceptions: Union[Type[Exception], Tuple[Type[Exception], ...]] = Exception\n",
    "):\n",
    "    def decorateur(func: Callable):\n",
    "        @wraps(func)\n",
    "        def wrapper(*args, **kwargs):\n",
    "            for i in range(tentatives):\n",
    "                try:\n",
    "                    return func(*args, **kwargs)\n",
    "                except exceptions as e:\n",
    "                    if i == tentatives - 1:  # Dernière tentative\n",
    "                        print(f\"Échec après {tentatives} tentatives\")\n",
    "                        raise\n",
    "                    print(f\"Tentative {i+1} échouée: {str(e)}\")\n",
    "                    time.sleep(delai)\n",
    "            return None\n",
    "        return wrapper\n",
    "    return decorateur\n",
    "\n",
    "# Exemple d'utilisation\n",
    "@retry(tentatives=3, delai=1, exceptions=(ConnectionError, TimeoutError))\n",
    "def appel_api_instable() -> str:\n",
    "    if random.random() < 0.7:  # 70% de chance d'échec\n",
    "        raise ConnectionError(\"Erreur de connexion\")\n",
    "    return \"Succès !\"\n",
    "\n",
    "# Test\n",
    "try:\n",
    "    resultat = appel_api_instable()\n",
    "    print(f\"Résultat final: {resultat}\")\n",
    "except ConnectionError:\n",
    "    print(\"Échec de toutes les tentatives\")"
   ]
  },
  {
   "cell_type": "markdown",
   "id": "e57e0dd8-bde3-46c0-a9d2-5fae573642b4",
   "metadata": {},
   "source": [
    "## Conseils d'utilisation\n",
    "\n",
    "- Utilisez `functools.wraps` pour préserver les métadonnées de la fonction décorée\n",
    "- Pensez aux types hints pour la maintenabilité\n",
    "- Privilégiez des exceptions spécifiques plutôt que génériques\n",
    "- Évitez les effets de bord dans vos décorateurs\n",
    "- N'oubliez pas que les décorateurs sont appelés à l'import du module\n",
    "\n",
    "## Pour aller plus loin\n",
    "\n",
    "- Combinez plusieurs décorateurs (par exemple `@logger` et `@timer`)\n",
    "- Créez des décorateurs avec des paramètres\n",
    "- Utilisez des décorateurs sur des classes\n",
    "- Explorez les décorateurs asynchrones avec `async/await`"
   ]
  }
 ],
 "metadata": {
  "kernelspec": {
   "display_name": "Python 3 (ipykernel)",
   "language": "python",
   "name": "python3"
  },
  "language_info": {
   "codemirror_mode": {
    "name": "ipython",
    "version": 3
   },
   "file_extension": ".py",
   "mimetype": "text/x-python",
   "name": "python",
   "nbconvert_exporter": "python",
   "pygments_lexer": "ipython3",
   "version": "3.10.13"
  }
 },
 "nbformat": 4,
 "nbformat_minor": 5
}
